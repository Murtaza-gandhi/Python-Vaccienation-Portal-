{
 "cells": [
  {
   "cell_type": "code",
   "execution_count": 2,
   "id": "df072788-1718-4e6b-a7c9-4f83b5dba35a",
   "metadata": {},
   "outputs": [],
   "source": [
    "import pandas as pd \n",
    "import numpy as np \n",
    "import re\n",
    "import os\n",
    "from datetime import date  \n",
    "import func_timeout "
   ]
  },
  {
   "cell_type": "code",
   "execution_count": 3,
   "id": "c8ad028f-dd5a-4340-ae2a-ce84c1f18087",
   "metadata": {
    "tags": []
   },
   "outputs": [],
   "source": [
    "# pip install func_timeout "
   ]
  },
  {
   "cell_type": "code",
   "execution_count": 4,
   "id": "5de8769b-2192-4609-8e78-c17213cdf5aa",
   "metadata": {},
   "outputs": [],
   "source": [
    "dfad = pd.DataFrame(pd.read_excel(\"Voting Data Set.xlsx\",sheet_name=\"admin\"))\n",
    "dfvo = pd.DataFrame(pd.read_excel(\"Voting Data Set.xlsx\",))"
   ]
  },
  {
   "cell_type": "code",
   "execution_count": 5,
   "id": "fc55c523-15bd-45dc-99ef-1462679a35c0",
   "metadata": {
    "tags": []
   },
   "outputs": [],
   "source": [
    "dfvo.drop([\"Unnamed: 3\",\"Unnamed: 4\",\"Unnamed: 5\",\"Unnamed: 6\",\"Unnamed: 7\"],axis=1,inplace=True)"
   ]
  },
  {
   "cell_type": "code",
   "execution_count": 6,
   "id": "c5959518-83e8-47ee-bed7-8326aa78c45c",
   "metadata": {},
   "outputs": [],
   "source": [
    "dfvo.set_index(\"Voter ID\",inplace=True)"
   ]
  },
  {
   "cell_type": "code",
   "execution_count": 7,
   "id": "fb7f8600-43a5-4039-9c05-c3f8b32c32b0",
   "metadata": {
    "collapsed": true,
    "jupyter": {
     "outputs_hidden": true
    },
    "tags": []
   },
   "outputs": [
    {
     "name": "stdout",
     "output_type": "stream",
     "text": [
      "<class 'pandas.core.frame.DataFrame'>\n",
      "RangeIndex: 10 entries, 0 to 9\n",
      "Data columns (total 3 columns):\n",
      " #   Column         Non-Null Count  Dtype \n",
      "---  ------         --------------  ----- \n",
      " 0   Admins         10 non-null     object\n",
      " 1   Admins ID      10 non-null     object\n",
      " 2   Admis Pasword  10 non-null     object\n",
      "dtypes: object(3)\n",
      "memory usage: 368.0+ bytes\n"
     ]
    }
   ],
   "source": [
    "dfad.info()"
   ]
  },
  {
   "cell_type": "code",
   "execution_count": 8,
   "id": "a2130d4e-e876-47a0-842b-40c2fc93c9cf",
   "metadata": {},
   "outputs": [],
   "source": [
    "# dfad.set_index(\"AdminsID\")"
   ]
  },
  {
   "cell_type": "code",
   "execution_count": 9,
   "id": "fead33ec-64ba-4887-9fed-46d703b9d1b0",
   "metadata": {
    "collapsed": true,
    "jupyter": {
     "outputs_hidden": true
    },
    "tags": []
   },
   "outputs": [
    {
     "data": {
      "text/html": [
       "<div>\n",
       "<style scoped>\n",
       "    .dataframe tbody tr th:only-of-type {\n",
       "        vertical-align: middle;\n",
       "    }\n",
       "\n",
       "    .dataframe tbody tr th {\n",
       "        vertical-align: top;\n",
       "    }\n",
       "\n",
       "    .dataframe thead th {\n",
       "        text-align: right;\n",
       "    }\n",
       "</style>\n",
       "<table border=\"1\" class=\"dataframe\">\n",
       "  <thead>\n",
       "    <tr style=\"text-align: right;\">\n",
       "      <th></th>\n",
       "      <th>Admins</th>\n",
       "      <th>Admins ID</th>\n",
       "      <th>Admis Pasword</th>\n",
       "    </tr>\n",
       "  </thead>\n",
       "  <tbody>\n",
       "    <tr>\n",
       "      <th>0</th>\n",
       "      <td>Jithender Babu</td>\n",
       "      <td>AD001</td>\n",
       "      <td>ADM1009</td>\n",
       "    </tr>\n",
       "    <tr>\n",
       "      <th>1</th>\n",
       "      <td>Vishal Ramde</td>\n",
       "      <td>AD002</td>\n",
       "      <td>ADM1010</td>\n",
       "    </tr>\n",
       "    <tr>\n",
       "      <th>2</th>\n",
       "      <td>Naveen Kumar Dalmia</td>\n",
       "      <td>AD003</td>\n",
       "      <td>ADM1011</td>\n",
       "    </tr>\n",
       "    <tr>\n",
       "      <th>3</th>\n",
       "      <td>Janaki Ram</td>\n",
       "      <td>AD004</td>\n",
       "      <td>ADM1012</td>\n",
       "    </tr>\n",
       "    <tr>\n",
       "      <th>4</th>\n",
       "      <td>Dhananjay Sahani</td>\n",
       "      <td>AD005</td>\n",
       "      <td>ADM1013</td>\n",
       "    </tr>\n",
       "    <tr>\n",
       "      <th>5</th>\n",
       "      <td>Premjeet</td>\n",
       "      <td>AD006</td>\n",
       "      <td>ADM1014</td>\n",
       "    </tr>\n",
       "    <tr>\n",
       "      <th>6</th>\n",
       "      <td>vacant</td>\n",
       "      <td>AD007</td>\n",
       "      <td>ADM1015</td>\n",
       "    </tr>\n",
       "    <tr>\n",
       "      <th>7</th>\n",
       "      <td>Ankur Bhardwaj</td>\n",
       "      <td>AD008</td>\n",
       "      <td>ADM1016</td>\n",
       "    </tr>\n",
       "    <tr>\n",
       "      <th>8</th>\n",
       "      <td>Vacant Asm Rom</td>\n",
       "      <td>AD009</td>\n",
       "      <td>ADM1017</td>\n",
       "    </tr>\n",
       "    <tr>\n",
       "      <th>9</th>\n",
       "      <td>Vacant Asm Central</td>\n",
       "      <td>AD010</td>\n",
       "      <td>ADM1018</td>\n",
       "    </tr>\n",
       "  </tbody>\n",
       "</table>\n",
       "</div>"
      ],
      "text/plain": [
       "               Admins  Admins ID  Admis Pasword\n",
       "0       Jithender Babu      AD001       ADM1009\n",
       "1         Vishal Ramde      AD002       ADM1010\n",
       "2  Naveen Kumar Dalmia      AD003       ADM1011\n",
       "3           Janaki Ram      AD004       ADM1012\n",
       "4     Dhananjay Sahani      AD005       ADM1013\n",
       "5             Premjeet      AD006       ADM1014\n",
       "6               vacant      AD007       ADM1015\n",
       "7       Ankur Bhardwaj      AD008       ADM1016\n",
       "8       Vacant Asm Rom      AD009       ADM1017\n",
       "9   Vacant Asm Central      AD010       ADM1018"
      ]
     },
     "execution_count": 9,
     "metadata": {},
     "output_type": "execute_result"
    }
   ],
   "source": [
    "dfad"
   ]
  },
  {
   "cell_type": "code",
   "execution_count": 10,
   "id": "9fcc2d98-350b-487a-997a-e2e53f5d461f",
   "metadata": {
    "collapsed": true,
    "jupyter": {
     "outputs_hidden": true
    },
    "tags": []
   },
   "outputs": [
    {
     "data": {
      "text/html": [
       "<div>\n",
       "<style scoped>\n",
       "    .dataframe tbody tr th:only-of-type {\n",
       "        vertical-align: middle;\n",
       "    }\n",
       "\n",
       "    .dataframe tbody tr th {\n",
       "        vertical-align: top;\n",
       "    }\n",
       "\n",
       "    .dataframe thead th {\n",
       "        text-align: right;\n",
       "    }\n",
       "</style>\n",
       "<table border=\"1\" class=\"dataframe\">\n",
       "  <thead>\n",
       "    <tr style=\"text-align: right;\">\n",
       "      <th></th>\n",
       "      <th>Voter Name</th>\n",
       "      <th>Voter's Pasword</th>\n",
       "    </tr>\n",
       "    <tr>\n",
       "      <th>Voter ID</th>\n",
       "      <th></th>\n",
       "      <th></th>\n",
       "    </tr>\n",
       "  </thead>\n",
       "  <tbody>\n",
       "    <tr>\n",
       "      <th>C1000</th>\n",
       "      <td>Thomas Duncan</td>\n",
       "      <td>EMP1009</td>\n",
       "    </tr>\n",
       "    <tr>\n",
       "      <th>C1001</th>\n",
       "      <td>Kenneth Ross</td>\n",
       "      <td>EMP1010</td>\n",
       "    </tr>\n",
       "    <tr>\n",
       "      <th>C1002</th>\n",
       "      <td>Henry Reyes</td>\n",
       "      <td>EMP1011</td>\n",
       "    </tr>\n",
       "    <tr>\n",
       "      <th>C1003</th>\n",
       "      <td>Benjamin Carter</td>\n",
       "      <td>EMP1012</td>\n",
       "    </tr>\n",
       "    <tr>\n",
       "      <th>C1004</th>\n",
       "      <td>Jeremy Schmidt</td>\n",
       "      <td>EMP1013</td>\n",
       "    </tr>\n",
       "    <tr>\n",
       "      <th>...</th>\n",
       "      <td>...</td>\n",
       "      <td>...</td>\n",
       "    </tr>\n",
       "    <tr>\n",
       "      <th>C1796</th>\n",
       "      <td>Bobby Coleman</td>\n",
       "      <td>EMP1017</td>\n",
       "    </tr>\n",
       "    <tr>\n",
       "      <th>C1797</th>\n",
       "      <td>Jason Ross</td>\n",
       "      <td>EMP1036</td>\n",
       "    </tr>\n",
       "    <tr>\n",
       "      <th>C1798</th>\n",
       "      <td>Shawn Torres</td>\n",
       "      <td>EMP1004</td>\n",
       "    </tr>\n",
       "    <tr>\n",
       "      <th>C1799</th>\n",
       "      <td>Michael Austin</td>\n",
       "      <td>EMP1031</td>\n",
       "    </tr>\n",
       "    <tr>\n",
       "      <th>C1800</th>\n",
       "      <td>Mark Simmons</td>\n",
       "      <td>EMP1028</td>\n",
       "    </tr>\n",
       "  </tbody>\n",
       "</table>\n",
       "<p>801 rows × 2 columns</p>\n",
       "</div>"
      ],
      "text/plain": [
       "               Voter Name Voter's Pasword \n",
       "Voter ID                                  \n",
       "C1000       Thomas Duncan          EMP1009\n",
       "C1001        Kenneth Ross          EMP1010\n",
       "C1002         Henry Reyes          EMP1011\n",
       "C1003     Benjamin Carter          EMP1012\n",
       "C1004      Jeremy Schmidt          EMP1013\n",
       "...                   ...              ...\n",
       "C1796       Bobby Coleman          EMP1017\n",
       "C1797          Jason Ross          EMP1036\n",
       "C1798        Shawn Torres          EMP1004\n",
       "C1799      Michael Austin          EMP1031\n",
       "C1800        Mark Simmons          EMP1028\n",
       "\n",
       "[801 rows x 2 columns]"
      ]
     },
     "execution_count": 10,
     "metadata": {},
     "output_type": "execute_result"
    }
   ],
   "source": [
    "dfvo"
   ]
  },
  {
   "cell_type": "code",
   "execution_count": 11,
   "id": "9916678b-a2f7-4750-86ff-21fe5c63b2aa",
   "metadata": {
    "jupyter": {
     "source_hidden": true
    },
    "tags": []
   },
   "outputs": [],
   "source": [
    "# idee = input(\"Enter 1 for Voter 2 for Admin\")\n",
    "\n",
    "# if idee==\"1\" :\n",
    "    # admins()"
   ]
  },
  {
   "cell_type": "code",
   "execution_count": 12,
   "id": "20b8fdb4-0ded-46ba-9d18-32e9fa9f7b58",
   "metadata": {},
   "outputs": [],
   "source": [
    "# ss = int(input(\"Selet 1 for admin, 2 for Voter\"))\n",
    "\n",
    "# if ss== 1 :\n",
    "#     print(\"Admin's function\") \n",
    "# elif ss == 2 :\n",
    "#         print(\"Voter's Function \")"
   ]
  },
  {
   "cell_type": "markdown",
   "id": "5c34b0f2-4328-49ce-a64b-e865303dd94d",
   "metadata": {
    "tags": []
   },
   "source": [
    "# Admin Function"
   ]
  },
  {
   "cell_type": "code",
   "execution_count": null,
   "id": "41a06225-e690-4e79-a3b1-566f04da774d",
   "metadata": {},
   "outputs": [],
   "source": []
  },
  {
   "cell_type": "code",
   "execution_count": 50,
   "id": "8afa427c-6b12-42e3-a87d-3294d9850b3a",
   "metadata": {},
   "outputs": [],
   "source": [
    "# # pasword unction \n",
    "# A_id = input(\"Enter ID\")\n",
    "# A_pasword = input(\"Enter Pasword\")\n",
    "\n",
    "# if A_id==\"Hii \" and  A_pasword==12311 :\n",
    "#     print(\"You are in Welcom\")"
   ]
  },
  {
   "cell_type": "code",
   "execution_count": 51,
   "id": "47833256-0adb-42ff-b116-836927e989b8",
   "metadata": {},
   "outputs": [
    {
     "data": {
      "text/html": [
       "<div>\n",
       "<style scoped>\n",
       "    .dataframe tbody tr th:only-of-type {\n",
       "        vertical-align: middle;\n",
       "    }\n",
       "\n",
       "    .dataframe tbody tr th {\n",
       "        vertical-align: top;\n",
       "    }\n",
       "\n",
       "    .dataframe thead th {\n",
       "        text-align: right;\n",
       "    }\n",
       "</style>\n",
       "<table border=\"1\" class=\"dataframe\">\n",
       "  <thead>\n",
       "    <tr style=\"text-align: right;\">\n",
       "      <th></th>\n",
       "      <th>Admins</th>\n",
       "      <th>Admins ID</th>\n",
       "      <th>Admis Pasword</th>\n",
       "    </tr>\n",
       "  </thead>\n",
       "  <tbody>\n",
       "    <tr>\n",
       "      <th>0</th>\n",
       "      <td>Jithender Babu</td>\n",
       "      <td>AD001</td>\n",
       "      <td>ADM1009</td>\n",
       "    </tr>\n",
       "    <tr>\n",
       "      <th>1</th>\n",
       "      <td>Vishal Ramde</td>\n",
       "      <td>AD002</td>\n",
       "      <td>ADM1010</td>\n",
       "    </tr>\n",
       "    <tr>\n",
       "      <th>2</th>\n",
       "      <td>Naveen Kumar Dalmia</td>\n",
       "      <td>AD003</td>\n",
       "      <td>ADM1011</td>\n",
       "    </tr>\n",
       "    <tr>\n",
       "      <th>3</th>\n",
       "      <td>Janaki Ram</td>\n",
       "      <td>AD004</td>\n",
       "      <td>ADM1012</td>\n",
       "    </tr>\n",
       "    <tr>\n",
       "      <th>4</th>\n",
       "      <td>Dhananjay Sahani</td>\n",
       "      <td>AD005</td>\n",
       "      <td>ADM1013</td>\n",
       "    </tr>\n",
       "    <tr>\n",
       "      <th>5</th>\n",
       "      <td>Premjeet</td>\n",
       "      <td>AD006</td>\n",
       "      <td>ADM1014</td>\n",
       "    </tr>\n",
       "    <tr>\n",
       "      <th>6</th>\n",
       "      <td>vacant</td>\n",
       "      <td>AD007</td>\n",
       "      <td>ADM1015</td>\n",
       "    </tr>\n",
       "    <tr>\n",
       "      <th>7</th>\n",
       "      <td>Ankur Bhardwaj</td>\n",
       "      <td>AD008</td>\n",
       "      <td>ADM1016</td>\n",
       "    </tr>\n",
       "    <tr>\n",
       "      <th>8</th>\n",
       "      <td>Vacant Asm Rom</td>\n",
       "      <td>AD009</td>\n",
       "      <td>ADM1017</td>\n",
       "    </tr>\n",
       "    <tr>\n",
       "      <th>9</th>\n",
       "      <td>Vacant Asm Central</td>\n",
       "      <td>AD010</td>\n",
       "      <td>ADM1018</td>\n",
       "    </tr>\n",
       "  </tbody>\n",
       "</table>\n",
       "</div>"
      ],
      "text/plain": [
       "               Admins  Admins ID  Admis Pasword\n",
       "0       Jithender Babu      AD001       ADM1009\n",
       "1         Vishal Ramde      AD002       ADM1010\n",
       "2  Naveen Kumar Dalmia      AD003       ADM1011\n",
       "3           Janaki Ram      AD004       ADM1012\n",
       "4     Dhananjay Sahani      AD005       ADM1013\n",
       "5             Premjeet      AD006       ADM1014\n",
       "6               vacant      AD007       ADM1015\n",
       "7       Ankur Bhardwaj      AD008       ADM1016\n",
       "8       Vacant Asm Rom      AD009       ADM1017\n",
       "9   Vacant Asm Central      AD010       ADM1018"
      ]
     },
     "execution_count": 51,
     "metadata": {},
     "output_type": "execute_result"
    }
   ],
   "source": [
    "dfad"
   ]
  },
  {
   "cell_type": "code",
   "execution_count": null,
   "id": "a53aa26f-e4a1-43b9-b03b-ae8427e69e3f",
   "metadata": {},
   "outputs": [],
   "source": []
  },
  {
   "cell_type": "code",
   "execution_count": null,
   "id": "7f803e2b-d2b9-4421-9860-faefb89fecb9",
   "metadata": {},
   "outputs": [],
   "source": []
  },
  {
   "cell_type": "code",
   "execution_count": 20,
   "id": "f3e101c9-f79c-4489-a580-295f4e5dafa8",
   "metadata": {},
   "outputs": [],
   "source": [
    "# # admins privilage \n",
    "# ad_p = input(\"1 for creating campaign, 2 for Adding Candidates , 3 for Publioshing Result \")\n",
    "\n",
    "# if ad_p== \"1\" :\n",
    "#     print(\"campaign Cration\")\n",
    "# elif ad_p==\"2\" :\n",
    "#     print(\"Adding Candidats\")\n",
    "# elif ad_p==\"3\" :\n",
    "#     print(\"Puclishing Result\")\n",
    "# else :\n",
    "#     print(\"Trt again\")\n",
    "\n"
   ]
  },
  {
   "cell_type": "code",
   "execution_count": 21,
   "id": "56b3242a-f84f-4220-be14-71c7c062eab4",
   "metadata": {},
   "outputs": [],
   "source": [
    "# func_timeout.func_timeout(100,) "
   ]
  },
  {
   "cell_type": "markdown",
   "id": "3be0acce-8189-4a87-9ba5-159cfc049e07",
   "metadata": {},
   "source": [
    "# Initialize the campaign function\n"
   ]
  },
  {
   "cell_type": "code",
   "execution_count": null,
   "id": "7d7cf9f8-89fa-4ae5-b220-00ed0cbadb64",
   "metadata": {},
   "outputs": [],
   "source": []
  },
  {
   "cell_type": "code",
   "execution_count": 53,
   "id": "f37455d0-d50e-49ca-9e6e-471eb68a2157",
   "metadata": {},
   "outputs": [],
   "source": [
    "# campaign \n",
    "def campaign_p () : \n",
    "    global d_campaign \n",
    "    d_campaign = {'campaign_ID': [], 'campaign_name': [], 'str_date': [], 'end_date': []}\n",
    "    while True:\n",
    "        i_campaign_ID = input(\"Enter campaign_ID: \")\n",
    "        i_campaign_name = (input(\"Enter campaign_name: \"))\n",
    "\n",
    "        s_y = int(input(\"Enter Starting year\"))\n",
    "        s_m = int(input(\"Enter Starting month\"))\n",
    "        s_d = int(input(\"Enter Starting day\"))\n",
    "\n",
    "        i_srt_date = date(s_y,s_m,s_d)\n",
    "\n",
    "        e_y = int(input(\"Enter ending year\"))\n",
    "        e_m = int(input(\"Enter endting month\"))\n",
    "        e_d = int(input(\"Enter endting day\"))\n",
    "\n",
    "        i_end_date = date(e_y,e_m,e_d)\n",
    "\n",
    "\n",
    "        d_campaign[\"campaign_ID\"].append(i_campaign_ID)\n",
    "        d_campaign[\"campaign_name\"].append(i_campaign_name)\n",
    "        d_campaign[\"str_date\"].append(i_srt_date)\n",
    "        d_campaign[\"end_date\"].append(i_end_date)\n",
    "\n",
    "\n",
    "\n",
    "        choice = input(\"Do you want to add more values? (y/n): \")\n",
    "        if choice.lower() == 'n':\n",
    "            break\n",
    "    global f_campaign\n",
    "    f_campaign = pd.DataFrame(d_campaign)\n"
   ]
  },
  {
   "cell_type": "code",
   "execution_count": 59,
   "id": "054997b2-35d1-4143-a70d-88ab0805b852",
   "metadata": {},
   "outputs": [
    {
     "name": "stdin",
     "output_type": "stream",
     "text": [
      "Enter campaign_ID:  0111\n",
      "Enter campaign_name:  mla\n",
      "Enter Starting year 2023\n",
      "Enter Starting month 2\n",
      "Enter Starting day 2\n",
      "Enter ending year 2023\n",
      "Enter endting month 2\n",
      "Enter endting day 20\n",
      "Do you want to add more values? (y/n):  n\n"
     ]
    }
   ],
   "source": [
    "campaign_p()"
   ]
  },
  {
   "cell_type": "code",
   "execution_count": 60,
   "id": "4ee4d03d-e6e0-4832-97b7-01f3cd862481",
   "metadata": {},
   "outputs": [
    {
     "data": {
      "text/html": [
       "<div>\n",
       "<style scoped>\n",
       "    .dataframe tbody tr th:only-of-type {\n",
       "        vertical-align: middle;\n",
       "    }\n",
       "\n",
       "    .dataframe tbody tr th {\n",
       "        vertical-align: top;\n",
       "    }\n",
       "\n",
       "    .dataframe thead th {\n",
       "        text-align: right;\n",
       "    }\n",
       "</style>\n",
       "<table border=\"1\" class=\"dataframe\">\n",
       "  <thead>\n",
       "    <tr style=\"text-align: right;\">\n",
       "      <th></th>\n",
       "      <th>campaign_ID</th>\n",
       "      <th>campaign_name</th>\n",
       "      <th>str_date</th>\n",
       "      <th>end_date</th>\n",
       "    </tr>\n",
       "  </thead>\n",
       "  <tbody>\n",
       "    <tr>\n",
       "      <th>0</th>\n",
       "      <td>0111</td>\n",
       "      <td>mla</td>\n",
       "      <td>2023-02-02</td>\n",
       "      <td>2023-02-20</td>\n",
       "    </tr>\n",
       "  </tbody>\n",
       "</table>\n",
       "</div>"
      ],
      "text/plain": [
       "  campaign_ID campaign_name    str_date    end_date\n",
       "0        0111           mla  2023-02-02  2023-02-20"
      ]
     },
     "execution_count": 60,
     "metadata": {},
     "output_type": "execute_result"
    }
   ],
   "source": [
    "f_campaign"
   ]
  },
  {
   "cell_type": "markdown",
   "id": "65f57a63-15dc-46ac-ae6d-a67577fb831a",
   "metadata": {},
   "source": [
    "# Casting voting "
   ]
  },
  {
   "cell_type": "code",
   "execution_count": 30,
   "id": "c59b616e-0b2e-4e4c-9b45-e7bc8adad734",
   "metadata": {},
   "outputs": [],
   "source": [
    "# V_candidat = {\"jaya\" : 0, \"minal\": 0}"
   ]
  },
  {
   "cell_type": "code",
   "execution_count": 46,
   "id": "e8f63589-2f20-4e4b-904c-50c9fc1e7d86",
   "metadata": {},
   "outputs": [],
   "source": [
    "# def cast_vote() :\n",
    "    \n",
    "#     global V_candidat \n",
    "    \n",
    "#     V_candidat = {\"jaya\" : 0, \"minal\": 0}\n",
    "    \n",
    "#     for i in \"1\" :\n",
    "#         vote_for = input(\"1 for jaya , 2 for minal\")\n",
    "#         if vote_for == \"1\" :\n",
    "#             V_candidat[\"jaya\"]=V_candidat[\"jaya\"]+1 \n",
    "#         else :\n",
    "#             V_candidat[\"minal\"]=V_candidat[\"minal\"]+1\n",
    "            \n",
    "#     return V_candidat        \n"
   ]
  },
  {
   "cell_type": "code",
   "execution_count": 45,
   "id": "6b5e86c1-bdcb-423a-bc63-ef079e3ce336",
   "metadata": {},
   "outputs": [],
   "source": []
  },
  {
   "cell_type": "code",
   "execution_count": null,
   "id": "cc5db7e0-5b4f-456a-b2d5-394c3dee5d6a",
   "metadata": {},
   "outputs": [],
   "source": []
  },
  {
   "cell_type": "code",
   "execution_count": null,
   "id": "dea22517-1b56-4ea6-a1b6-b82535c94373",
   "metadata": {},
   "outputs": [],
   "source": []
  },
  {
   "cell_type": "code",
   "execution_count": null,
   "id": "4571459e-e109-477c-b0d0-c0f52ed334fb",
   "metadata": {},
   "outputs": [],
   "source": []
  },
  {
   "cell_type": "code",
   "execution_count": null,
   "id": "914df50d-144e-4cb5-b519-f5236bf92679",
   "metadata": {},
   "outputs": [],
   "source": []
  },
  {
   "cell_type": "code",
   "execution_count": null,
   "id": "7a66c046-b837-47d7-bf6f-2e2868510004",
   "metadata": {},
   "outputs": [],
   "source": []
  },
  {
   "cell_type": "code",
   "execution_count": null,
   "id": "6f759ab7-0b38-4cd5-b55a-9f4a05c86554",
   "metadata": {},
   "outputs": [],
   "source": []
  },
  {
   "cell_type": "code",
   "execution_count": null,
   "id": "cca29278-a9cb-4a38-b0f4-ebe6bd0eac10",
   "metadata": {},
   "outputs": [],
   "source": []
  },
  {
   "cell_type": "code",
   "execution_count": null,
   "id": "2683f262-2b5f-42ce-b9ba-7ddadb926b41",
   "metadata": {},
   "outputs": [],
   "source": []
  },
  {
   "cell_type": "code",
   "execution_count": null,
   "id": "4962cc48-9e33-41ac-82ff-a9f4e88c19b7",
   "metadata": {},
   "outputs": [],
   "source": []
  },
  {
   "cell_type": "code",
   "execution_count": null,
   "id": "947a00b0-87eb-4c12-aee0-3cb7ab31e224",
   "metadata": {},
   "outputs": [],
   "source": []
  },
  {
   "cell_type": "code",
   "execution_count": null,
   "id": "c2f8c347-d33a-4f9c-8c86-ca2fd8b619fb",
   "metadata": {},
   "outputs": [],
   "source": []
  },
  {
   "cell_type": "code",
   "execution_count": null,
   "id": "0233d19c-e2ce-497e-b65d-f3d0ae60f765",
   "metadata": {},
   "outputs": [],
   "source": []
  },
  {
   "cell_type": "code",
   "execution_count": null,
   "id": "53458dcb-9367-4fea-b0c3-9988da85735d",
   "metadata": {},
   "outputs": [],
   "source": []
  },
  {
   "cell_type": "code",
   "execution_count": null,
   "id": "b2ba8ccf-841b-40e6-8a8d-355556721546",
   "metadata": {},
   "outputs": [],
   "source": []
  }
 ],
 "metadata": {
  "kernelspec": {
   "display_name": "Python 3 (ipykernel)",
   "language": "python",
   "name": "python3"
  },
  "language_info": {
   "codemirror_mode": {
    "name": "ipython",
    "version": 3
   },
   "file_extension": ".py",
   "mimetype": "text/x-python",
   "name": "python",
   "nbconvert_exporter": "python",
   "pygments_lexer": "ipython3",
   "version": "3.9.13"
  }
 },
 "nbformat": 4,
 "nbformat_minor": 5
}
